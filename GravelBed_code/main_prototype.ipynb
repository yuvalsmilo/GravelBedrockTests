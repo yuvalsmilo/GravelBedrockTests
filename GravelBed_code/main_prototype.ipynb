{
 "cells": [
  {
   "cell_type": "code",
   "execution_count": 1,
   "id": "0d48cbcc-51e1-4d79-9665-b673a95ba940",
   "metadata": {},
   "outputs": [],
   "source": [
    "from landlab import RasterModelGrid\n",
    "from gravel_bedrock_eroder.gravel_bedrock_eroder import GravelBedrockEroder\n",
    "from landlab.components import FlowAccumulator\n",
    "from ClastGrading import ClastGrading\n",
    "from matplotlib import pyplot as plt\n",
    "import numpy as np"
   ]
  },
  {
   "cell_type": "code",
   "execution_count": 2,
   "id": "219dfe91-9f22-4ebc-b3d9-cf4b088ebc9e",
   "metadata": {},
   "outputs": [],
   "source": [
    "# Global parameters\n",
    "porosity = 0.4                              # [-]\n",
    "soil_density = 2650                         # [kg/m^3]\n",
    "initial_sediment_weight_at_node = 100000    # [kg]\n",
    "n_steps = 500\n",
    "\n",
    "\"\"\" Create grading features with different fragmentation models. \n",
    "Fragmentation models are describe by the following string:\n",
    "      !!   pX-AAA-BBB-CCC-DDD'  !!       \n",
    "while\n",
    "X = number of daughter particles\n",
    "AAA = weight % that *REMAINS* in  parent after fragmentation\n",
    "BBB / CCC / DDD ... = proportion of daughters '\n",
    "\"\"\"\n",
    "grading_name = 'p2-0-100'  # ,'p2-10-10-spread'  #,'p2-0-100'"
   ]
  },
  {
   "cell_type": "code",
   "execution_count": 3,
   "id": "a4673438-255e-4b5c-922f-6c55400b8914",
   "metadata": {},
   "outputs": [],
   "source": [
    "# Create grid\n",
    "grid = RasterModelGrid((3, 3), xy_spacing=1000.0)\n",
    "elev = grid.add_zeros(\"topographic__elevation\", at=\"node\")"
   ]
  },
  {
   "cell_type": "code",
   "execution_count": 4,
   "id": "42320ca0-d83a-4ab1-8d6d-23c5a550bcc9",
   "metadata": {},
   "outputs": [],
   "source": [
    "# Flag for an apriori grain size disribution OR for generating a distribution\n",
    "known_dist_flag = False\n",
    "\n",
    "if known_dist_flag:\n",
    "    mean_grainsize_per_class = [0.002, 0.02, 0.2, 2, 10]  # [0.002, 0.2, 1 ]  # [m]\n",
    "    init_median_grainsize_at_node = 0.2           # [m]\n",
    "    n_size_classes = np.size(mean_grainsize_per_class )\n",
    "    A_factor = 0.001\n",
    "else:\n",
    "    init_median_grainsize_at_node = 0.1           # [m]\n",
    "    n_size_classes = 30\n",
    "    maxsize = 2\n",
    "    A_factor = 0.01"
   ]
  },
  {
   "cell_type": "code",
   "execution_count": 5,
   "id": "32168554-89cd-4df1-96c8-be5cd67b0997",
   "metadata": {},
   "outputs": [],
   "source": [
    "# Call ClastGrading component\n",
    "grading = ClastGrading(\n",
    "    grid,\n",
    "    grading_name=grading_name,\n",
    "    n_size_classes=n_size_classes,\n",
    "    clast_density=soil_density,\n",
    "    phi=porosity,\n",
    ")"
   ]
  },
  {
   "cell_type": "code",
   "execution_count": 6,
   "id": "b1d5a1a8-f9d9-4c22-97d9-0f65ec9a00ba",
   "metadata": {},
   "outputs": [],
   "source": [
    "if known_dist_flag:\n",
    "    grading.set_grading_classes(input_sizes_flag=True,\n",
    "                                meansizes=mean_grainsize_per_class,\n",
    "                                )\n",
    "    grading.create_transion_mat(A_factor=A_factor)\n",
    "    # Create grain size distribution for initial debris layer\n",
    "    grading.create_dist(\n",
    "        median_size=init_median_grainsize_at_node,\n",
    "        num_of_clasts=initial_sediment_weight_at_node,\n",
    "        init_val_flag=True,\n",
    "    std=1)\n",
    "\n",
    "else:\n",
    "\n",
    "    grading.set_grading_classes(maxsize = maxsize)\n",
    "    grading.create_transion_mat(A_factor=A_factor)\n",
    "    # Create grain size distribution for initial debris layer\n",
    "    grading.create_dist(\n",
    "        median_size=init_median_grainsize_at_node,\n",
    "        num_of_clasts=initial_sediment_weight_at_node,\n",
    "        init_val_flag=True, )"
   ]
  },
  {
   "cell_type": "code",
   "execution_count": 7,
   "id": "003fad7f-2d51-48ae-8169-0a04306d07a5",
   "metadata": {},
   "outputs": [],
   "source": [
    "# Call other components \n",
    "fa = FlowAccumulator(grid, runoff_rate=10.0)\n",
    "fa.run_one_step()\n",
    "eroder = GravelBedrockEroder(\n",
    "    grid, sediment_porosity = 0.4, abrasion_coefficients = [0.0005]\n",
    ")"
   ]
  },
  {
   "cell_type": "code",
   "execution_count": 8,
   "id": "3ce8c618-a2ed-4013-8784-0d314a6b0984",
   "metadata": {},
   "outputs": [],
   "source": [
    "# Boundary conditions\n",
    "grid.status_at_node[grid.perimeter_nodes] = grid.BC_NODE_IS_CLOSED\n",
    "grid.status_at_node[5] = grid.BC_NODE_IS_FIXED_VALUE"
   ]
  },
  {
   "cell_type": "code",
   "execution_count": 9,
   "id": "de27fcd9-f958-4952-9a94-7d0305fd478b",
   "metadata": {},
   "outputs": [],
   "source": [
    "# Pointers\n",
    "rock_elev = grid.at_node[\"bedrock__elevation\"]\n",
    "\n",
    "# save inital weight per grain size\n",
    "init_weight_per_grainsize = np.copy(grid.at_node['grain__weight'][3,:])"
   ]
  },
  {
   "cell_type": "code",
   "execution_count": 10,
   "id": "60356d38-338f-4b08-bea7-bc6e07a35678",
   "metadata": {},
   "outputs": [],
   "source": [
    "# MAIN LOOP\n",
    "for _ in range(n_steps ):\n",
    "    rock_elev[grid.core_nodes] += 1.0\n",
    "    elev[grid.core_nodes] += 1.0\n",
    "    fa.run_one_step()\n",
    "    eroder.run_one_step(10000.0)\n",
    "    grading.run_one_step()"
   ]
  },
  {
   "cell_type": "code",
   "execution_count": 11,
   "id": "93d2ee01-a354-4c36-966b-b9134f1e1d53",
   "metadata": {},
   "outputs": [
    {
     "data": {
      "image/png": "[encoded data removed]",
      "text/plain": [
       "<Figure size 640x480 with 1 Axes>"
      ]
     },
     "metadata": {},
     "output_type": "display_data"
    }
   ],
   "source": [
    "# Figure\n",
    "total_weight = np.sum(grid.at_node['grain__weight'][3,:])\n",
    "fig,ax = plt.subplots(1,1)\n",
    "ax.plot(-np.log2(grading._meansizes*1000),\n",
    "        np.cumsum(init_weight_per_grainsize)/total_weight,\n",
    "        color='black',\n",
    "       label='t = 0')\n",
    "ax.plot(-np.log2(grading._meansizes*1000),np.cumsum(grid.at_node['grain__weight'][3,:])/total_weight,color='blue',label='t = ' + str(n_steps ))\n",
    "ax.set_xlabel('Grain size [$\\phi$]')\n",
    "ax.set_ylabel('Weight fraction')\n",
    "ax.invert_xaxis() # phi scale\n",
    "ax.legend()\n",
    "plt.show()"
   ]
  },
  {
   "cell_type": "code",
   "execution_count": null,
   "id": "694125e8-c630-4bb3-9244-8ce84b67e988",
   "metadata": {},
   "outputs": [],
   "source": []
  }
 ],
 "metadata": {
  "kernelspec": {
   "display_name": "Python 3 (ipykernel)",
   "language": "python",
   "name": "python3"
  },
  "language_info": {
   "codemirror_mode": {
    "name": "ipython",
    "version": 3
   },
   "file_extension": ".py",
   "mimetype": "text/x-python",
   "name": "python",
   "nbconvert_exporter": "python",
   "pygments_lexer": "ipython3",
   "version": "3.10.14"
  }
 },
 "nbformat": 4,
 "nbformat_minor": 5
}
